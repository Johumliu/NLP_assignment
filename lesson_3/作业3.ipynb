{
 "cells": [
  {
   "cell_type": "markdown",
   "metadata": {},
   "source": [
    "### Part I Review the online programming. "
   ]
  },
  {
   "cell_type": "markdown",
   "metadata": {},
   "source": [
    "##### machine learning"
   ]
  },
  {
   "cell_type": "code",
   "execution_count": 84,
   "metadata": {},
   "outputs": [],
   "source": [
    "from sklearn.datasets import load_boston\n",
    "import random\n",
    "import matplotlib.pyplot as plt\n",
    "from collections import defaultdict"
   ]
  },
  {
   "cell_type": "code",
   "execution_count": 2,
   "metadata": {},
   "outputs": [],
   "source": [
    "data = load_boston()"
   ]
  },
  {
   "cell_type": "code",
   "execution_count": 4,
   "metadata": {},
   "outputs": [],
   "source": [
    "X, y = data['data'], data['target']"
   ]
  },
  {
   "cell_type": "code",
   "execution_count": 17,
   "metadata": {},
   "outputs": [],
   "source": [
    "X_rm = X[:,5]"
   ]
  },
  {
   "cell_type": "markdown",
   "metadata": {},
   "source": [
    "## loss1\n",
    "\n",
    "$$ loss = \\frac{1}{n} \\sum{(y_i - \\hat{y_i})}^2$$"
   ]
  },
  {
   "cell_type": "markdown",
   "metadata": {},
   "source": [
    "$$ loss = \\frac{1}{n} \\sum{(y_i - (kx_i + b_i))}^2 $$"
   ]
  },
  {
   "cell_type": "markdown",
   "metadata": {},
   "source": [
    "$$ \\frac{\\partial{loss}}{\\partial{k}} = -\\frac{2}{n}\\sum(y_i - (kx_i + b_i))x_i$$"
   ]
  },
  {
   "cell_type": "markdown",
   "metadata": {},
   "source": [
    "$$ \\frac{\\partial{loss}}{\\partial{k}} = -\\frac{2}{n}\\sum(y_i - \\hat{y_i})x_i$$"
   ]
  },
  {
   "cell_type": "markdown",
   "metadata": {},
   "source": [
    "$$ \\frac{\\partial{loss}}{\\partial{b}} = -\\frac{2}{n}\\sum(y_i - \\hat{y_i})$$"
   ]
  },
  {
   "cell_type": "code",
   "execution_count": 16,
   "metadata": {},
   "outputs": [],
   "source": [
    "def loss1(y, y_pred):\n",
    "    loss = sum([(y_i - y_pred_i)**2 for y_i, y_pred_i in zip(y, y_pred)])\n",
    "    loss = loss / len(y)\n",
    "    return loss"
   ]
  },
  {
   "cell_type": "code",
   "execution_count": 20,
   "metadata": {},
   "outputs": [],
   "source": [
    "def gradient_k(x, y, y_pred):\n",
    "    gradient = sum([(y_i - y_pred_i) * x_i for y_i, y_pred_i, x_i in zip(y, y_pred, x)])\n",
    "    gradient *= -2 / len(y)\n",
    "    return gradient"
   ]
  },
  {
   "cell_type": "code",
   "execution_count": 21,
   "metadata": {},
   "outputs": [],
   "source": [
    "def gradient_b(y, y_pred):\n",
    "    gradient = sum([(y_i - y_pred_i) for y_i, y_pred_i in zip(y, y_pred)])\n",
    "    gradient *= -2 / len(y)\n",
    "    return gradient"
   ]
  },
  {
   "cell_type": "code",
   "execution_count": 23,
   "metadata": {},
   "outputs": [],
   "source": [
    "def price(rm, k, b):\n",
    "    return k * rm + b  "
   ]
  },
  {
   "cell_type": "code",
   "execution_count": 47,
   "metadata": {},
   "outputs": [
    {
     "name": "stdout",
     "output_type": "stream",
     "text": [
      "Time is 0, current_k is -26.623826467033382, current_b is -17.351731522082517, loss is 43606.58964795836.\n",
      "Time is 100, current_k is 5.667149823802803, current_b is -12.820440217930036, loss is 49.48285604876344.\n",
      "Time is 200, current_k is 5.748775509362682, current_b is -13.33967083639744, loss is 49.206612764870286.\n",
      "Time is 300, current_k is 5.828461505907973, current_b is -13.846562864140978, loss is 48.94334234812143.\n",
      "Time is 400, current_k is 5.906253906692874, current_b is -14.341409505790036, loss is 48.69243557001528.\n",
      "Time is 500, current_k is 5.982197709647498, current_b is -14.82449699848827, loss is 48.453311812484685.\n",
      "Time is 600, current_k is 5.9903649286900835, current_b is -14.876449642629058, loss is 48.427938220127544.\n",
      "Time is 700, current_k is 5.997838909886353, current_b is -14.923992519020654, loss is 48.404776632551176.\n",
      "Time is 800, current_k is 6.005294939607828, current_b is -14.971421203962636, loss is 48.38172617325183.\n",
      "Time is 900, current_k is 6.012733060971482, current_b is -15.018735971727162, loss is 48.358786309041115.\n",
      "Time is 1000, current_k is 6.020153316990729, current_b is -15.065937095927623, loss is 48.335956509288536.\n",
      "Time is 1100, current_k is 6.027555750575667, current_b is -15.113024849520233, loss is 48.3132362459097.\n",
      "Time is 1200, current_k is 6.034940404533333, current_b is -15.159999504805592, loss is 48.29062499335393.\n",
      "Time is 1300, current_k is 6.042307321567945, current_b is -15.20686133343029, loss is 48.268122228592134.\n",
      "Time is 1400, current_k is 6.049656544281154, current_b is -15.25361060638843, loss is 48.24572743110462.\n",
      "Time is 1500, current_k is 6.056988115172286, current_b is -15.300247594023249, loss is 48.22344008286906.\n",
      "Time is 1600, current_k is 6.057786183473989, current_b is -15.305324200670169, loss is 48.22101725807623.\n",
      "Time is 1700, current_k is 6.058518171533338, current_b is -15.309980463097352, loss is 48.21879560210577.\n",
      "Time is 1800, current_k is 6.059249983590806, current_b is -15.314635605955832, loss is 48.216575014373056.\n",
      "Time is 1900, current_k is 6.059981619688726, current_b is -15.319289629514813, loss is 48.21435549436426.\n",
      "Time is 2000, current_k is 6.060713079869395, current_b is -15.323942534043423, loss is 48.21213704156613.\n",
      "Time is 2100, current_k is 6.061444364175111, current_b is -15.328594319810723, loss is 48.20991965546547.\n",
      "Time is 2200, current_k is 6.062175472648164, current_b is -15.333244987085713, loss is 48.20770333554936.\n",
      "Time is 2300, current_k is 6.062906405330835, current_b is -15.337894536137329, loss is 48.205488081305255.\n",
      "Time is 2400, current_k is 6.063637162265392, current_b is -15.342542967234436, loss is 48.203273892220686.\n",
      "Time is 2500, current_k is 6.064367743494094, current_b is -15.347190280645854, loss is 48.20106076778339.\n",
      "Time is 2600, current_k is 6.065098149059185, current_b is -15.35183647664032, loss is 48.198848707481666.\n",
      "Time is 2700, current_k is 6.065828379002898, current_b is -15.356481555486495, loss is 48.196637710803586.\n",
      "Time is 2800, current_k is 6.066558433367467, current_b is -15.361125517452988, loss is 48.19442777723792.\n",
      "Time is 2900, current_k is 6.067288312195103, current_b is -15.365768362808351, loss is 48.19221890627347.\n",
      "Time is 3000, current_k is 6.068018015528014, current_b is -15.370410091821077, loss is 48.19001109739926.\n",
      "Time is 3100, current_k is 6.068097542507943, current_b is -15.370915972325362, loss is 48.18977051063993.\n",
      "Time is 3200, current_k is 6.068170501199318, current_b is -15.371380071171027, loss is 48.189549799957334.\n",
      "Time is 3300, current_k is 6.06824345813626, current_b is -15.371844158856527, loss is 48.18932909988938.\n",
      "Time is 3400, current_k is 6.0683164133188106, current_b is -15.372308235382144, loss is 48.18910841043555.\n",
      "Time is 3500, current_k is 6.068389366747012, current_b is -15.37277230074814, loss is 48.188887731595536.\n",
      "Time is 3600, current_k is 6.068462318420906, current_b is -15.373236354954786, loss is 48.18866706336863.\n",
      "Time is 3700, current_k is 6.068535268340535, current_b is -15.373700398002347, loss is 48.188446405754384.\n",
      "Time is 3800, current_k is 6.0686082165059405, current_b is -15.374164429891092, loss is 48.188225758752246.\n",
      "Time is 3900, current_k is 6.068681162917163, current_b is -15.374628450621291, loss is 48.18800512236183.\n",
      "Time is 4000, current_k is 6.068754107574251, current_b is -15.375092460193208, loss is 48.18778449658253.\n",
      "Time is 4100, current_k is 6.068827050477244, current_b is -15.37555645860712, loss is 48.18756388141385.\n",
      "Time is 4200, current_k is 6.068899991626185, current_b is -15.376020445863285, loss is 48.18734327685524.\n",
      "Time is 4300, current_k is 6.068972931021115, current_b is -15.376484421961978, loss is 48.18712268290626.\n",
      "Time is 4400, current_k is 6.069045868662073, current_b is -15.376948386903464, loss is 48.18690209956638.\n",
      "Time is 4500, current_k is 6.069118804549105, current_b is -15.377412340688016, loss is 48.18668152683512.\n",
      "Time is 4600, current_k is 6.069191738682251, current_b is -15.377876283315896, loss is 48.186460964711856.\n",
      "Time is 4700, current_k is 6.069264671061558, current_b is -15.378340214787379, loss is 48.18624041319616.\n",
      "Time is 4800, current_k is 6.069337601687061, current_b is -15.378804135102722, loss is 48.18601987228748.\n",
      "Time is 4900, current_k is 6.069410530558807, current_b is -15.379268044262211, loss is 48.1857993419855.\n"
     ]
    }
   ],
   "source": [
    "iter_times = 5000\n",
    "\n",
    "min_loss = float('inf')\n",
    "\n",
    "current_k = random.random()*200 - 100\n",
    "current_b = random.random()*200 - 100\n",
    "\n",
    "lr = 0.01\n",
    "for i in range(iter_times):\n",
    "    y_pred = [price(x_i, current_k, current_b) for x_i in X_rm]\n",
    "    current_loss = loss1(y, y_pred)\n",
    "    \n",
    "    if current_loss < min_loss:\n",
    "        if i % 100 ==0:\n",
    "            min_loss = current_loss\n",
    "            print('Time is {}, current_k is {}, current_b is {}, loss is {}.'.format(i, current_k, current_b, min_loss))\n",
    "    if i > 500: \n",
    "        lr = 0.001\n",
    "    if i > 1500:\n",
    "        lr = 0.0001\n",
    "    if i > 3000:\n",
    "        lr = 0.00001\n",
    "    current_k = current_k - lr * gradient_k(X_rm, y, y_pred) \n",
    "    current_b = current_b - lr * gradient_b(y, y_pred) "
   ]
  },
  {
   "cell_type": "markdown",
   "metadata": {},
   "source": [
    "### Part 2: change loss function from $loss = \\frac{1}{n}\\sum{(y_i - \\hat(y_i))^2}$ to $loss = \\frac{1}{n}\\sum{|y_i - \\hat{y_i}|}$, and using your mathmatical knowledge to get the right partial formual. Implemen the gradient descent code."
   ]
  },
  {
   "cell_type": "markdown",
   "metadata": {},
   "source": [
    "## loss2\n",
    "\n",
    "$$ loss = \\frac{1}{n} \\sum{|y_i - \\hat{y_i}|}$$"
   ]
  },
  {
   "cell_type": "markdown",
   "metadata": {},
   "source": [
    "$$ loss = \\frac{1}{n} \\sum{|y_i - (kx_i + b_i)|} $$"
   ]
  },
  {
   "cell_type": "markdown",
   "metadata": {},
   "source": [
    "$$ \\frac{\\partial{loss}}{\\partial{k}} = \\frac{1}{n}\\sum{sign*xi} ,\\ sign = \\begin{cases}-1& \\text{yi>kxi+b}\\\\1& \\text{yi<kxi+b}\\end{cases}  $$"
   ]
  },
  {
   "cell_type": "markdown",
   "metadata": {},
   "source": [
    "$$ \\frac{\\partial{loss}}{\\partial{b}} = \\frac{1}{n}\\sum{sign} ,\\ sign = \\begin{cases}-1& \\text{yi>kxi+b}\\\\1& \\text{yi<kxi+b}\\end{cases}  $$"
   ]
  },
  {
   "cell_type": "code",
   "execution_count": 49,
   "metadata": {},
   "outputs": [],
   "source": [
    "def loss2(y, y_pred):\n",
    "    loss = sum([abs(y_i - y_pred_i) for y_i, y_pred_i in zip(y, y_pred)])\n",
    "    loss = loss / len(y)\n",
    "    return loss"
   ]
  },
  {
   "cell_type": "code",
   "execution_count": 68,
   "metadata": {},
   "outputs": [],
   "source": [
    "def gradient_k2(x, y, y_pred):\n",
    "    gradient = sum([(1 if y_i < y_pred_i else -1) * x_i for y_i, y_pred_i, x_i in zip(y, y_pred, x)])\n",
    "    gradient *= 1 / len(y)\n",
    "    return gradient"
   ]
  },
  {
   "cell_type": "code",
   "execution_count": 69,
   "metadata": {},
   "outputs": [],
   "source": [
    "def gradient_b2(y, y_pred):\n",
    "    gradient = sum([(1 if y_i < y_pred_i else -1) for y_i, y_pred_i in zip(y, y_pred)])\n",
    "    gradient *= 1 / len(y)\n",
    "    return gradient"
   ]
  },
  {
   "cell_type": "code",
   "execution_count": 73,
   "metadata": {},
   "outputs": [
    {
     "name": "stdout",
     "output_type": "stream",
     "text": [
      "Time is 0, current_k is -8.367052557629066, current_b is -31.723872341216094, loss is 106.84054488978202.\n",
      "Time is 100, current_k is -2.0824181702772857, current_b is -30.723872341215937, loss is 66.34391550709748.\n",
      "Time is 200, current_k is 4.202216217074505, current_b is -29.72387234121578, loss is 25.84728612441269.\n",
      "Time is 300, current_k is 8.214672580710864, current_b is -29.089761669279007, loss is 4.511236380272648.\n",
      "Time is 400, current_k is 8.232608035256344, current_b is -29.102370364931073, loss is 4.50921085074195.\n",
      "Time is 500, current_k is 8.234836098497485, current_b is -29.117390127776797, loss is 4.508981055702727.\n",
      "Time is 600, current_k is 8.235160234861079, current_b is -29.119014633705568, loss is 4.508954978555847.\n",
      "Time is 700, current_k is 8.235383041185154, current_b is -29.12051660999007, loss is 4.508931867289545.\n",
      "Time is 800, current_k is 8.235605847509229, current_b is -29.12201858627457, loss is 4.508908816933041.\n",
      "Time is 900, current_k is 8.235854053042791, current_b is -29.123516609989903, loss is 4.508885779681069.\n",
      "Time is 1000, current_k is 8.236076859366866, current_b is -29.125018586274404, loss is 4.508862668414762.\n",
      "Time is 1100, current_k is 8.236325064900429, current_b is -29.126516609989736, loss is 4.5088396920726.\n",
      "Time is 1200, current_k is 8.236547871224504, current_b is -29.128018586274237, loss is 4.508816580806288.\n",
      "Time is 1300, current_k is 8.236770677548579, current_b is -29.12952056255874, loss is 4.508793596767775.\n",
      "Time is 1400, current_k is 8.237018883082142, current_b is -29.13101858627407, loss is 4.5087704931978125.\n",
      "Time is 1500, current_k is 8.237241689406217, current_b is -29.13252056255857, loss is 4.508747403537969.\n",
      "Time is 1600, current_k is 8.237269023200719, current_b is -29.132683803665305, loss is 4.508744878994381.\n",
      "Time is 1700, current_k is 8.23729130383317, current_b is -29.13283400129379, loss is 4.508742568195263.\n",
      "Time is 1800, current_k is 8.237316124386568, current_b is -29.13298380366536, loss is 4.508740270233534.\n",
      "Time is 1900, current_k is 8.237338405019019, current_b is -29.133134001293847, loss is 4.508737959106903.\n",
      "Time is 2000, current_k is 8.237363225572418, current_b is -29.133283803665417, loss is 4.508735661472678.\n",
      "Time is 2100, current_k is 8.237385506204868, current_b is -29.133434001293903, loss is 4.5087333503460565.\n",
      "Time is 2200, current_k is 8.237407786837318, current_b is -29.13358419892239, loss is 4.508731046178735.\n",
      "Time is 2300, current_k is 8.237432607390717, current_b is -29.13373400129396, loss is 4.508728741585207.\n",
      "Time is 2400, current_k is 8.237454888023167, current_b is -29.133884198922445, loss is 4.50872643045857.\n",
      "Time is 2500, current_k is 8.237479708576567, current_b is -29.134034001294015, loss is 4.5087241328243515.\n",
      "Time is 2600, current_k is 8.237501989209017, current_b is -29.1341841989225, loss is 4.508721821697723.\n",
      "Time is 2700, current_k is 8.237526809762416, current_b is -29.13433400129407, loss is 4.508719524063506.\n",
      "Time is 2800, current_k is 8.237549090394866, current_b is -29.134484198922557, loss is 4.508717212936879.\n",
      "Time is 2900, current_k is 8.237571371027316, current_b is -29.134634396551043, loss is 4.508714904839217.\n",
      "Time is 3000, current_k is 8.237596191580716, current_b is -29.134784198922613, loss is 4.508712604176027.\n",
      "Time is 3100, current_k is 8.237597401007527, current_b is -29.134800760187524, loss is 4.508712345786866.\n",
      "Time is 3200, current_k is 8.237599883062796, current_b is -29.134815740424756, loss is 4.508712116023438.\n",
      "Time is 3300, current_k is 8.23760211112597, current_b is -29.134830760187683, loss is 4.508711884910776.\n",
      "Time is 3400, current_k is 8.237604339189144, current_b is -29.13484577995061, loss is 4.508711654969341.\n",
      "Time is 3500, current_k is 8.237606821244412, current_b is -29.13486076018784, loss is 4.508711424034691.\n",
      "Time is 3600, current_k is 8.237609049307586, current_b is -29.134875779950768, loss is 4.508711193037046.\n",
      "Time is 3700, current_k is 8.237611531362855, current_b is -29.134890760188, loss is 4.508710963158602.\n",
      "Time is 3800, current_k is 8.23761375942603, current_b is -29.134905779950927, loss is 4.508710732045938.\n",
      "Time is 3900, current_k is 8.237616241481298, current_b is -29.13492076018816, loss is 4.508710502282513.\n",
      "Time is 4000, current_k is 8.237618469544472, current_b is -29.134935779951086, loss is 4.50871027116985.\n",
      "Time is 4100, current_k is 8.237620697607646, current_b is -29.134950799714012, loss is 4.508710040835398.\n",
      "Time is 4200, current_k is 8.237623179662915, current_b is -29.134965779951244, loss is 4.508709810293764.\n",
      "Time is 4300, current_k is 8.237625407726089, current_b is -29.13498079971417, loss is 4.5087095791810965.\n",
      "Time is 4400, current_k is 8.237627889781358, current_b is -29.134995779951403, loss is 4.508709349417679.\n",
      "Time is 4500, current_k is 8.237630117844532, current_b is -29.13501079971433, loss is 4.508709118305012.\n",
      "Time is 4600, current_k is 8.2376325998998, current_b is -29.13502577995156, loss is 4.5087088885415865.\n",
      "Time is 4700, current_k is 8.237634827962975, current_b is -29.13504079971449, loss is 4.508708657428925.\n",
      "Time is 4800, current_k is 8.237637056026148, current_b is -29.135055819477415, loss is 4.5087084267014506.\n",
      "Time is 4900, current_k is 8.237639538081417, current_b is -29.135070799714647, loss is 4.508708196552836.\n"
     ]
    }
   ],
   "source": [
    "iter_times = 5000\n",
    "\n",
    "min_loss = float('inf')\n",
    "\n",
    "current_k = random.random()*200 - 100\n",
    "current_b = random.random()*200 - 100\n",
    "\n",
    "lr = 0.01\n",
    "for i in range(iter_times):\n",
    "    y_pred = [price(x_i, current_k, current_b) for x_i in X_rm]\n",
    "    current_loss = loss2(y, y_pred)\n",
    "    \n",
    "    if current_loss < min_loss:\n",
    "        if i % 100 ==0:\n",
    "            min_loss = current_loss\n",
    "            print('Time is {}, current_k is {}, current_b is {}, loss is {}.'.format(i, current_k, current_b, min_loss))\n",
    "    if i > 500: \n",
    "        lr = 0.001\n",
    "    if i > 1500:\n",
    "        lr = 0.0001\n",
    "    if i > 3000:\n",
    "        lr = 0.00001\n",
    "    current_k = current_k - lr * gradient_k2(X_rm, y, y_pred) \n",
    "    current_b = current_b - lr * gradient_b2(y, y_pred) "
   ]
  },
  {
   "cell_type": "code",
   "execution_count": 80,
   "metadata": {},
   "outputs": [
    {
     "data": {
      "text/plain": [
       "<matplotlib.collections.PathCollection at 0x1a1a040860>"
      ]
     },
     "execution_count": 80,
     "metadata": {},
     "output_type": "execute_result"
    },
    {
     "data": {
      "image/png": "[encoded data removed]",
      "text/plain": [
       "<Figure size 432x288 with 1 Axes>"
      ]
     },
     "metadata": {
      "needs_background": "light"
     },
     "output_type": "display_data"
    }
   ],
   "source": [
    "X_rm = X[:, 5]\n",
    "\n",
    "k1 = 6.069410530558807\n",
    "b1 = -15.379268044262211\n",
    "\n",
    "k2 = 8.237639538081417\n",
    "b2 = -29.135070799714647\n",
    "price_by_random_k_and_b1 = [price(r, k1, b1) for r in X_rm]\n",
    "price_by_random_k_and_b2 = [price(r, k2, b2) for r in X_rm]\n",
    "\n",
    "def draw_rm_and_price():\n",
    "    plt.scatter(X[:, 5], y)\n",
    "draw_rm_and_price()\n",
    "plt.scatter(X_rm, price_by_random_k_and_b1)\n",
    "plt.scatter(X_rm, price_by_random_k_and_b2)"
   ]
  },
  {
   "cell_type": "markdown",
   "metadata": {},
   "source": [
    "## Dynamic Programming"
   ]
  },
  {
   "cell_type": "code",
   "execution_count": 85,
   "metadata": {},
   "outputs": [],
   "source": [
    "original_price = [1, 5, 8, 9, 10, 17, 17, 20, 24, 30, 35]"
   ]
  },
  {
   "cell_type": "code",
   "execution_count": 86,
   "metadata": {},
   "outputs": [],
   "source": [
    "price = defaultdict(int)"
   ]
  },
  {
   "cell_type": "code",
   "execution_count": 87,
   "metadata": {},
   "outputs": [],
   "source": [
    "for i,p in enumerate(original_price):\n",
    "    price[i + 1] = p"
   ]
  },
  {
   "cell_type": "code",
   "execution_count": 92,
   "metadata": {},
   "outputs": [
    {
     "data": {
      "text/plain": [
       "0"
      ]
     },
     "execution_count": 92,
     "metadata": {},
     "output_type": "execute_result"
    }
   ],
   "source": [
    "price[12]"
   ]
  },
  {
   "cell_type": "code",
   "execution_count": 99,
   "metadata": {},
   "outputs": [],
   "source": [
    "def r(n):\n",
    "    return max([price[n]] + [r(i) + r(n-i) for i in range(1, n)])"
   ]
  },
  {
   "cell_type": "code",
   "execution_count": 137,
   "metadata": {},
   "outputs": [],
   "source": [
    "from functools import wraps"
   ]
  },
  {
   "cell_type": "code",
   "execution_count": 218,
   "metadata": {},
   "outputs": [],
   "source": [
    "called_time_with_arg = defaultdict(int)\n",
    "\n",
    "def get_call_time(f):\n",
    "    \"\"\"@param f is a function\"\"\"\n",
    "    @wraps(f)\n",
    "    def wrap(n):\n",
    "        \"\"\"Haha I am warp\"\"\"\n",
    "       # print('I can count')\n",
    "        result = f(n)\n",
    "        called_time_with_arg[(f.__name__, n)] += 1\n",
    "        return result\n",
    "    return wrap"
   ]
  },
  {
   "cell_type": "code",
   "execution_count": 219,
   "metadata": {},
   "outputs": [],
   "source": [
    "def memo(f):\n",
    "    already_computed = {}\n",
    "    @wraps(f)\n",
    "    def _wrap(n):\n",
    "        if n in already_computed:\n",
    "            result = already_computed[n]\n",
    "        else:\n",
    "            result = f(n)\n",
    "            already_computed[n] = result\n",
    "        return result\n",
    "    return _wrap"
   ]
  },
  {
   "cell_type": "code",
   "execution_count": 224,
   "metadata": {},
   "outputs": [],
   "source": [
    "@memo\n",
    "@get_call_time\n",
    "def r(n):\n",
    "    return max([price[n]] + [r(i) + r(n-i) for i in range(1, n)])"
   ]
  },
  {
   "cell_type": "code",
   "execution_count": 221,
   "metadata": {},
   "outputs": [
    {
     "data": {
      "text/plain": [
       "157"
      ]
     },
     "execution_count": 221,
     "metadata": {},
     "output_type": "execute_result"
    }
   ],
   "source": [
    "r(50)"
   ]
  },
  {
   "cell_type": "code",
   "execution_count": 222,
   "metadata": {},
   "outputs": [
    {
     "data": {
      "text/plain": [
       "defaultdict(int,\n",
       "            {('r', 1): 1,\n",
       "             ('r', 2): 1,\n",
       "             ('r', 3): 1,\n",
       "             ('r', 4): 1,\n",
       "             ('r', 5): 1,\n",
       "             ('r', 6): 1,\n",
       "             ('r', 7): 1,\n",
       "             ('r', 8): 1,\n",
       "             ('r', 9): 1,\n",
       "             ('r', 10): 1,\n",
       "             ('r', 11): 1,\n",
       "             ('r', 12): 1,\n",
       "             ('r', 13): 1,\n",
       "             ('r', 14): 1,\n",
       "             ('r', 15): 1,\n",
       "             ('r', 16): 1,\n",
       "             ('r', 17): 1,\n",
       "             ('r', 18): 1,\n",
       "             ('r', 19): 1,\n",
       "             ('r', 20): 1,\n",
       "             ('r', 21): 1,\n",
       "             ('r', 22): 1,\n",
       "             ('r', 23): 1,\n",
       "             ('r', 24): 1,\n",
       "             ('r', 25): 1,\n",
       "             ('r', 26): 1,\n",
       "             ('r', 27): 1,\n",
       "             ('r', 28): 1,\n",
       "             ('r', 29): 1,\n",
       "             ('r', 30): 1,\n",
       "             ('r', 31): 1,\n",
       "             ('r', 32): 1,\n",
       "             ('r', 33): 1,\n",
       "             ('r', 34): 1,\n",
       "             ('r', 35): 1,\n",
       "             ('r', 36): 1,\n",
       "             ('r', 37): 1,\n",
       "             ('r', 38): 1,\n",
       "             ('r', 39): 1,\n",
       "             ('r', 40): 1,\n",
       "             ('r', 41): 1,\n",
       "             ('r', 42): 1,\n",
       "             ('r', 43): 1,\n",
       "             ('r', 44): 1,\n",
       "             ('r', 45): 1,\n",
       "             ('r', 46): 1,\n",
       "             ('r', 47): 1,\n",
       "             ('r', 48): 1,\n",
       "             ('r', 49): 1,\n",
       "             ('r', 50): 1})"
      ]
     },
     "execution_count": 222,
     "metadata": {},
     "output_type": "execute_result"
    }
   ],
   "source": [
    "called_time_with_arg"
   ]
  },
  {
   "cell_type": "code",
   "execution_count": 226,
   "metadata": {},
   "outputs": [],
   "source": [
    "solution = {}"
   ]
  },
  {
   "cell_type": "code",
   "execution_count": 227,
   "metadata": {},
   "outputs": [],
   "source": [
    "@memo\n",
    "@get_call_time\n",
    "def r(n):\n",
    "    max_price, max_split = max([(price[n], 0)] + [(r(i) + r(n-i), i) for i in range(1, n)])\n",
    "    solution[n] = (n - max_split, max_split)\n",
    "    return max_price"
   ]
  },
  {
   "cell_type": "code",
   "execution_count": 236,
   "metadata": {},
   "outputs": [
    {
     "data": {
      "text/plain": [
       "953"
      ]
     },
     "execution_count": 236,
     "metadata": {},
     "output_type": "execute_result"
    }
   ],
   "source": [
    "r(300)"
   ]
  },
  {
   "cell_type": "code",
   "execution_count": 229,
   "metadata": {},
   "outputs": [
    {
     "data": {
      "text/plain": [
       "{1: (1, 0),\n",
       " 2: (2, 0),\n",
       " 3: (3, 0),\n",
       " 4: (2, 2),\n",
       " 5: (2, 3),\n",
       " 6: (6, 0),\n",
       " 7: (1, 6),\n",
       " 8: (2, 6),\n",
       " 9: (3, 6),\n",
       " 10: (10, 0),\n",
       " 11: (11, 0),\n",
       " 12: (1, 11),\n",
       " 13: (2, 11),\n",
       " 14: (3, 11),\n",
       " 15: (2, 13),\n",
       " 16: (2, 14),\n",
       " 17: (6, 11),\n",
       " 18: (1, 17),\n",
       " 19: (2, 17),\n",
       " 20: (3, 17),\n",
       " 21: (10, 11),\n",
       " 22: (11, 11),\n",
       " 23: (1, 22),\n",
       " 24: (2, 22),\n",
       " 25: (3, 22),\n",
       " 26: (2, 24),\n",
       " 27: (2, 25),\n",
       " 28: (6, 22),\n",
       " 29: (1, 28),\n",
       " 30: (2, 28)}"
      ]
     },
     "execution_count": 229,
     "metadata": {},
     "output_type": "execute_result"
    }
   ],
   "source": [
    "solution"
   ]
  },
  {
   "cell_type": "code",
   "execution_count": null,
   "metadata": {},
   "outputs": [],
   "source": [
    "original_price = [1, 5, 8, 9, 10, 17, 17, 20, 24, 30, 35]"
   ]
  },
  {
   "cell_type": "code",
   "execution_count": 233,
   "metadata": {},
   "outputs": [],
   "source": [
    "def parse_solution(n):\n",
    "    left_split, right_split = solution[n]\n",
    "    if right_split == 0:\n",
    "        return [left_split]\n",
    "    else:\n",
    "        return parse_solution(right_split) + parse_solution(left_split)"
   ]
  },
  {
   "cell_type": "code",
   "execution_count": 238,
   "metadata": {},
   "outputs": [
    {
     "data": {
      "text/plain": [
       "[11, 11, 11, 11, 11, 11, 11, 11, 11, 11, 11, 11, 11, 11, 11, 11, 11, 11, 2]"
      ]
     },
     "execution_count": 238,
     "metadata": {},
     "output_type": "execute_result"
    }
   ],
   "source": [
    "parse_solution(200)"
   ]
  },
  {
   "cell_type": "markdown",
   "metadata": {},
   "source": [
    "### Part 3: Finish the Solution Parse Part of Edit-Distance"
   ]
  },
  {
   "cell_type": "code",
   "execution_count": 392,
   "metadata": {},
   "outputs": [],
   "source": [
    "solution_string = {}"
   ]
  },
  {
   "cell_type": "code",
   "execution_count": 393,
   "metadata": {},
   "outputs": [],
   "source": [
    "from functools import lru_cache"
   ]
  },
  {
   "cell_type": "code",
   "execution_count": 394,
   "metadata": {},
   "outputs": [],
   "source": [
    "@lru_cache(maxsize=2**10)\n",
    "def edit_distance(string1, string2):\n",
    "    \n",
    "    if len(string1) == 0: return len(string2)\n",
    "    if len(string2) == 0: return len(string1)\n",
    "    \n",
    "    tail_s1 = string1[-1]\n",
    "    tail_s2 = string2[-1]\n",
    "    \n",
    "    candidates = [\n",
    "        (edit_distance(string1[:-1], string2) + 1, 'DEL {}'.format(tail_s1)),  # string 1 delete tail\n",
    "        (edit_distance(string1, string2[:-1]) + 1, 'ADD {}'.format(tail_s2)),  # string 1 add tail of string2\n",
    "    ]\n",
    "    \n",
    "    if tail_s1 == tail_s2:\n",
    "        both_forward = (edit_distance(string1[:-1], string2[:-1]) + 0, '')\n",
    "    else:\n",
    "        both_forward = (edit_distance(string1[:-1], string2[:-1]) + 1, 'SUB {} => {}'.format(tail_s1, tail_s2))\n",
    "\n",
    "    candidates.append(both_forward)\n",
    "    \n",
    "    min_distance, operation = min(candidates, key=lambda x: x[0])\n",
    "    \n",
    "    solution_string[(string1, string2)] = operation \n",
    "    \n",
    "    return min_distance"
   ]
  },
  {
   "cell_type": "code",
   "execution_count": 395,
   "metadata": {},
   "outputs": [
    {
     "data": {
      "text/plain": [
       "3"
      ]
     },
     "execution_count": 395,
     "metadata": {},
     "output_type": "execute_result"
    }
   ],
   "source": [
    "edit_distance('ABCDF', 'ACDEFG')"
   ]
  },
  {
   "cell_type": "code",
   "execution_count": 396,
   "metadata": {},
   "outputs": [
    {
     "data": {
      "text/plain": [
       "{('A', 'A'): '',\n",
       " ('A', 'AC'): 'ADD C',\n",
       " ('A', 'ACD'): 'ADD D',\n",
       " ('A', 'ACDE'): 'ADD E',\n",
       " ('A', 'ACDEF'): 'ADD F',\n",
       " ('A', 'ACDEFG'): 'ADD G',\n",
       " ('AB', 'A'): 'DEL B',\n",
       " ('AB', 'AC'): 'SUB B => C',\n",
       " ('AB', 'ACD'): 'ADD D',\n",
       " ('AB', 'ACDE'): 'ADD E',\n",
       " ('AB', 'ACDEF'): 'ADD F',\n",
       " ('AB', 'ACDEFG'): 'ADD G',\n",
       " ('ABC', 'A'): 'DEL C',\n",
       " ('ABC', 'AC'): '',\n",
       " ('ABC', 'ACD'): 'ADD D',\n",
       " ('ABC', 'ACDE'): 'ADD E',\n",
       " ('ABC', 'ACDEF'): 'ADD F',\n",
       " ('ABC', 'ACDEFG'): 'ADD G',\n",
       " ('ABCD', 'A'): 'DEL D',\n",
       " ('ABCD', 'AC'): 'DEL D',\n",
       " ('ABCD', 'ACD'): '',\n",
       " ('ABCD', 'ACDE'): 'ADD E',\n",
       " ('ABCD', 'ACDEF'): 'ADD F',\n",
       " ('ABCD', 'ACDEFG'): 'ADD G',\n",
       " ('ABCDF', 'A'): 'DEL F',\n",
       " ('ABCDF', 'AC'): 'DEL F',\n",
       " ('ABCDF', 'ACD'): 'DEL F',\n",
       " ('ABCDF', 'ACDE'): 'SUB F => E',\n",
       " ('ABCDF', 'ACDEF'): '',\n",
       " ('ABCDF', 'ACDEFG'): 'ADD G'}"
      ]
     },
     "execution_count": 396,
     "metadata": {},
     "output_type": "execute_result"
    }
   ],
   "source": [
    "solution_string"
   ]
  },
  {
   "cell_type": "code",
   "execution_count": 397,
   "metadata": {},
   "outputs": [],
   "source": [
    "option = []\n",
    "def parse_solution_string(string):\n",
    "    left_string, right_string = string\n",
    "    op = solution_string[string]\n",
    "    if op or left_string != right_string:\n",
    "        if op[:3] == 'DEL':\n",
    "            new_string = left_string[:-1]\n",
    "            option.append(op)\n",
    "            string = (new_string, right_string)\n",
    "            parse_solution_string(string)\n",
    "        elif op[:3] == 'ADD':\n",
    "            new_string = right_string[:-1]\n",
    "            option.insert(0, op)\n",
    "            string = (left_string, new_string)\n",
    "            parse_solution_string(string)\n",
    "        elif op[:3] == 'SUB':\n",
    "            if option[0][:3] == 'DEL':\n",
    "                option.append(op)\n",
    "            else:\n",
    "                option.insert(0, op)\n",
    "            string = (left_string[:-1], right_string[:-1])\n",
    "            parse_solution_string(string)\n",
    "        else:\n",
    "            string = (left_string[:-1], right_string[:-1])\n",
    "            parse_solution_string(string)\n",
    "    else:\n",
    "        print(option)\n",
    "        return option\n",
    "        "
   ]
  },
  {
   "cell_type": "code",
   "execution_count": 402,
   "metadata": {},
   "outputs": [
    {
     "name": "stdout",
     "output_type": "stream",
     "text": [
      "['ADD E', 'ADD G', 'DEL B']\n"
     ]
    }
   ],
   "source": [
    "option = []\n",
    "parse_solution_string(('ABCDF', 'ACDEFG'))"
   ]
  },
  {
   "cell_type": "code",
   "execution_count": 403,
   "metadata": {},
   "outputs": [
    {
     "name": "stdout",
     "output_type": "stream",
     "text": [
      "['DEL F', 'DEL D', 'DEL C', 'DEL B']\n"
     ]
    }
   ],
   "source": [
    "option = []\n",
    "parse_solution_string(('ABCDF', 'A'))"
   ]
  },
  {
   "cell_type": "code",
   "execution_count": 404,
   "metadata": {},
   "outputs": [
    {
     "name": "stdout",
     "output_type": "stream",
     "text": [
      "['SUB B => C', 'ADD D', 'ADD E', 'ADD F', 'ADD G']\n"
     ]
    }
   ],
   "source": [
    "option = []\n",
    "parse_solution_string(('AB', 'ACDEFG'))"
   ]
  },
  {
   "cell_type": "markdown",
   "metadata": {},
   "source": [
    "### Part 5: Answer following questions: "
   ]
  },
  {
   "cell_type": "markdown",
   "metadata": {},
   "source": [
    "1. Why do we need dynamic programming? What's the difference of dynamic programming and previous talked `search` problme? "
   ]
  },
  {
   "cell_type": "markdown",
   "metadata": {},
   "source": [
    "Ans: 因为求解的问题可以分解为多个子问题，需要分析子问题的重复性；而搜索问题主要是考虑后继节点。"
   ]
  },
  {
   "cell_type": "markdown",
   "metadata": {},
   "source": [
    "2. Why do we still need dynamic programming? Why not we train a machine learning to fit a function which could get the `right` answer based on inputs?"
   ]
  },
  {
   "cell_type": "markdown",
   "metadata": {},
   "source": [
    "Ans: 因为一些场景使用动态规划更好，用动态规划更方便；机器学习并不是在所有场景都适用。"
   ]
  },
  {
   "cell_type": "markdown",
   "metadata": {},
   "source": [
    "3. Can you catch up at least 3 problems which could solved by Dynamic Programming? "
   ]
  },
  {
   "cell_type": "markdown",
   "metadata": {},
   "source": [
    "Ans: 0-1背包问题，编辑距离问题，最长公共子序列问题。"
   ]
  },
  {
   "cell_type": "markdown",
   "metadata": {},
   "source": [
    "4. Can you catch up at least 3 problems wich could sloved by Edit Distance? "
   ]
  },
  {
   "cell_type": "markdown",
   "metadata": {},
   "source": [
    "Ans: 拼写检查，论文查查，基因序列对比。"
   ]
  },
  {
   "cell_type": "markdown",
   "metadata": {},
   "source": [
    "5. Please summarize the three main features of Dynamic Programming, and make a concise explain for each feature. "
   ]
  },
  {
   "cell_type": "markdown",
   "metadata": {},
   "source": [
    "Ans: 最优子结构，边界，状态转移公式。最优子结构指的是，问题的最优解包含子问题的最优解；边界是子问题无需再简化；状态转移公式是问题每个阶段和下个阶段的关系。"
   ]
  },
  {
   "cell_type": "markdown",
   "metadata": {},
   "source": [
    "6. What's the disadvantages of Dynamic Programming? (You may need search by yourself in Internet)"
   ]
  },
  {
   "cell_type": "markdown",
   "metadata": {},
   "source": [
    "Ans: 没有统一的标准模型；数值方法求解时存在维数灾。"
   ]
  }
 ],
 "metadata": {
  "kernelspec": {
   "display_name": "Python 3",
   "language": "python",
   "name": "python3"
  },
  "language_info": {
   "codemirror_mode": {
    "name": "ipython",
    "version": 3
   },
   "file_extension": ".py",
   "mimetype": "text/x-python",
   "name": "python",
   "nbconvert_exporter": "python",
   "pygments_lexer": "ipython3",
   "version": "3.7.3"
  }
 },
 "nbformat": 4,
 "nbformat_minor": 2
}
